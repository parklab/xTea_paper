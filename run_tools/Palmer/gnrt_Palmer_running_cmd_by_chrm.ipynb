{
 "cells": [
  {
   "cell_type": "code",
   "execution_count": 11,
   "metadata": {
    "collapsed": true
   },
   "outputs": [],
   "source": [
    "\n",
    "PALMER1=\"/n/data1/hms/dbmi/park/simon_chu/projects/XTEA/xTEA_paper/HG002/cmp_other_tools/Palmer/PALMER/PALMER\"\n",
    "REF=\"/n/data1/hms/dbmi/park/simon_chu/projects/data/reference/GRCh38/GCA_000001405.15_GRCh38_no_alt_analysis_set.fna\"\n",
    "DirPath=\"/n/data1/hms/dbmi/park/simon_chu/projects/XTEA/xTEA_paper/HG002/cmp_other_tools/Palmer/results\"\n",
    "WPath=\"/n/data1/hms/dbmi/park/simon_chu/projects/XTEA/xTEA_paper/HG002/cmp_other_tools/Palmer/results/CCS_Alu_2/\"\n",
    "\n",
    "l_chrm=[\"chr1\",\"chr2\",\"chr3\",\"chr4\",\"chr5\",\"chr6\",\"chr7\",\"chr8\",\"chr9\",\"chr10\",\"chr11\",\"chr12\",\"chr13\",\"chr14\",\"chr15\",\"chr16\",\"chr17\",\"chr18\",\"chr19\",\"chr20\",\"chr21\",\"chr22\",\"chrX\",\"chrY\"]\n",
    "sf_bam=DirPath+\"/HG002_ccs_2_GRCh38_minimap2.sorted.bam\"\n",
    "sf_cmd=\"Palmer_running_cmd_Alu.sh\"\n",
    "with open(sf_cmd, \"w\") as fout_cmd:\n",
    "    for s_chrm in l_chrm:\n",
    "        sf_out=\"HG002_%s_ccs_Palmer_Alu\" % s_chrm\n",
    "        s_cmd=\"%s --input %s  --workdir %s --ref_ver GRCh38 --output %s --type ALU  --ref_fa %s --chr %s \\n\" %\\\n",
    "        (PALMER1, sf_bam, WPath, sf_out, REF, s_chrm)\n",
    "        fout_cmd.write(s_cmd)\n",
    "#--type ALU"
   ]
  },
  {
   "cell_type": "code",
   "execution_count": 4,
   "metadata": {},
   "outputs": [
    {
     "name": "stdout",
     "output_type": "stream",
     "text": [
      "[\"chr1\",\"chr2\",\"chr3\",\"chr4\",\"chr5\",\"chr6\",\"chr7\",\"chr8\",\"chr9\",\"chr10\",\"chr11\",\"chr12\",\"chr13\",\"chr14\",\"chr15\",\"chr16\",\"chr17\",\"chr18\",\"chr19\",\"chr20\",\"chr21\",\"chr22\",]\n"
     ]
    }
   ],
   "source": [
    "s=\"[\"\n",
    "for i in range(1,23):\n",
    "    s+=(\"\\\"chr\"+str(i)+\"\\\",\")\n",
    "s+=\"]\"\n",
    "print(s)"
   ]
  }
 ],
 "metadata": {
  "kernelspec": {
   "display_name": "Python 3",
   "language": "python",
   "name": "python3"
  },
  "language_info": {
   "codemirror_mode": {
    "name": "ipython",
    "version": 3
   },
   "file_extension": ".py",
   "mimetype": "text/x-python",
   "name": "python",
   "nbconvert_exporter": "python",
   "pygments_lexer": "ipython3",
   "version": "3.6.8"
  }
 },
 "nbformat": 4,
 "nbformat_minor": 2
}

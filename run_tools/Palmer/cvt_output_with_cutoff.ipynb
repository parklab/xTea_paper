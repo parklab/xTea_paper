{
 "cells": [
  {
   "cell_type": "code",
   "execution_count": 4,
   "metadata": {
    "collapsed": true
   },
   "outputs": [],
   "source": [
    "#cluster_id      chr start1      start2  end1    end2    start1_inVariant        start2_inVariant\n",
    "# end1_inVariant  end2_inVariant  Confident_supporting_reads      Potential_supporting_reads      Ptential_segmental_supporting_reads     orientation     polyA-tail_size 5'_TSD_size     3'_TSD_size     Predicted_transD_size   Has_5'_inverted_sequence?       5'_inverted_seq_end     5'_seq_start\n",
    "def slct_sites(sf_in, sf_out):\n",
    "    m_chrm={}\n",
    "    with open(sf_in) as fin_sites, open(sf_out,\"w\") as fout_sites:\n",
    "        for line in fin_sites:\n",
    "            fields=line.rstrip().split()\n",
    "            if \"cluster_id\" in line:\n",
    "                continue\n",
    "            n_cfdt=int(fields[10])\n",
    "            n_potentl=int(fields[11])\n",
    "            if n_cfdt<1 or n_potentl<5:\n",
    "                continue\n",
    "            s_info=\"\\t\".join(fields[1:])\n",
    "            s_chrm=fields[1]\n",
    "            s_pos=fields[2]\n",
    "            m_chrm[s_chrm]=[]\n",
    "            fout_sites.write(s_info+\"\\n\")\n",
    "\n",
    "sf_prefix=\"/Users/simon/research/projects/papers/xTEA_paper/NC_revision/round1_revision/cmp_other_tools/Palmer/\"\n",
    "sf_Alu=sf_prefix+\"merged_HG002_ccs_Palmer_Alu_calls.txt\"\n",
    "sf_slct_Alu=sf_prefix+\"HG002_ccs_Palmer_Alu_calls_slct.txt\"\n",
    "slct_sites(sf_Alu, sf_slct_Alu)\n",
    "\n",
    "sf_L1=sf_prefix+\"merged_HG002_LINE1_calls.txt\"\n",
    "sf_slct_L1=sf_prefix+\"HG002_ccs_Palmer_LINE1_calls_slct.txt\"\n",
    "slct_sites(sf_L1, sf_slct_L1)\n",
    "\n",
    "sf_SVA=sf_prefix+\"merged_HG002_SVA_calls.txt\"\n",
    "sf_slct_SVA=sf_prefix+\"HG002_ccs_Palmer_SVA_calls_slct.txt\"\n",
    "slct_sites(sf_SVA, sf_slct_SVA)\n",
    "#"
   ]
  }
 ],
 "metadata": {
  "kernelspec": {
   "display_name": "Python 3",
   "language": "python",
   "name": "python3"
  },
  "language_info": {
   "codemirror_mode": {
    "name": "ipython",
    "version": 3
   },
   "file_extension": ".py",
   "mimetype": "text/x-python",
   "name": "python",
   "nbconvert_exporter": "python",
   "pygments_lexer": "ipython3",
   "version": "3.6.8"
  }
 },
 "nbformat": 4,
 "nbformat_minor": 2
}
